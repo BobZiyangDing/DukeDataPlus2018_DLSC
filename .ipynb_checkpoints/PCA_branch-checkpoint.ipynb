{
 "cells": [
  {
   "cell_type": "code",
   "execution_count": 1,
   "metadata": {
    "collapsed": true
   },
   "outputs": [],
   "source": [
    "def GetAccuracy(truth, label): \n",
    "    truth_relation = np.zeros((len(truth),len(truth)))\n",
    "    label_relation = np.zeros((len(label),len(label)))\n",
    "\n",
    "    for i in range(len(truth)):\n",
    "        for j in range(len(truth)):\n",
    "            if truth[i] == truth[j]:\n",
    "                truth_relation[i][j] = 0.5\n",
    "            else:\n",
    "                truth_relation[i][j] = -0.5\n",
    "\n",
    "    for i in range(len(label)):\n",
    "        for j in range(len(label)):\n",
    "            if label[i] == label[j]:\n",
    "                label_relation[i][j] = 0.5\n",
    "            else:\n",
    "                label_relation[i][j] = -0.5\n",
    "\n",
    "    accuracy = np.mean(np.abs(truth_relation+label_relation))\n",
    "    print(accuracy)"
   ]
  },
  {
   "cell_type": "code",
   "execution_count": 4,
   "metadata": {
    "collapsed": true,
    "scrolled": false
   },
   "outputs": [],
   "source": [
    "# import some necessary packages\n",
    "import os\n",
    "import numpy as np\n",
    "import pandas as pd\n",
    "import matplotlib.pyplot as plt\n",
    "\n",
    "from sklearn.manifold import TSNE\n",
    "from sklearn.cluster import KMeans\n",
    "from sklearn.decomposition import PCA\n",
    "from plot import getTsne\n",
    "from data_helper import scanpy\n",
    "\n",
    "def CreateDir(filepath, num, clusters, mingene, mincell):\n",
    "    # create directory in data\n",
    "    if not os.path.exists(\"./data/pbmc_gene=\"+str(mingene)+\"_cell=\"+str(mincell)+\"/PCA_branch_\"+str(num)+\"D\"):\n",
    "        os.makedirs(\"./data/pbmc_gene=\"+str(mingene)+\"_cell=\"+str(mincell)+\"/PCA_branch_\"+str(num)+\"D\")\n",
    "    # create directory in process_image\n",
    "    if not os.path.exists(\"./process_images/pbmc_gene=\"+str(mingene)+\"_cell=\"+str(mincell)+\"/PCA_branch_\"+str(num)+\"D\"):\n",
    "        os.makedirs(\"./process_images/pbmc_gene=\"+str(mingene)+\"_cell=\"+str(mincell)+\"/PCA_branch_\"+str(num)+\"D\")\n",
    "\n",
    "        \n",
    "def GetPCA(filepath, num, clusters, mingene, mincell):\n",
    "    df = pd.read_csv(filepath,header='infer',index_col=0,sep='\\t')\n",
    "    truth = df.index.values.tolist()\n",
    "    truth_set = list(set(truth))\n",
    "    X = df.values\n",
    "    ipca = PCA(n_components=num).fit(X)\n",
    "    \n",
    "    \n",
    "    # First get pca coordinates\n",
    "    X_ipca = ipca.fit_transform(X)\n",
    "    processed_PCA = pd.DataFrame(X_ipca,index=df.index.values,columns=[i+1 for i in range(num)])\n",
    "    processed_PCA.to_csv(\"./data/pbmc_gene=\"+str(mingene)+\"_cell=\"+str(mincell)+\n",
    "                         \"/PCA_branch_\"+str(num)+\"D\"+\"/PCA_coordinate.csv\",\n",
    "                         sep=\"\\t\",header=False,index=False)\n",
    "    processed_PCA.to_csv(\"./data/pbmc_gene=\"+str(mingene)+\"_cell=\"+str(mincell)+\n",
    "                         \"/PCA_branch_\"+str(num)+\"D\"+\"/PCA_coordinate_headed.csv\", sep=\",\")\n",
    "    processed_PCA.to_csv(\"./data/pbmc_gene=\"+str(mingene)+\"_cell=\"+str(mincell)+\n",
    "                         \"/PCA_branch_\"+str(num)+\"D\"+\"/PCA_coordinate_headed_noindex.tsv\", sep=\"\\t\",index=False) \n",
    "\n",
    "    # Then get label from K-means\n",
    "    label = KMeans(n_clusters=clusters).fit_predict(X_ipca)\n",
    "    # generate graph with K-means label\n",
    "    (lisXtsne, lisYtsne) = getTsne(\"./data/pbmc_gene=\"+str(mingene)+\"_cell=\"+str(mincell)+\n",
    "                                   \"/PCA_branch_\"+str(num)+\"D\"+\"/PCA_coordinate_headed.csv\", \n",
    "                                   \"./process_images/pbmc_gene=\"+str(mingene)+\"_cell=\"+str(mincell)+\n",
    "                                   \"/PCA_branch_\"+str(num)+\"D\"+\"/tsne.jpg\", \n",
    "                                   label)\n",
    "    \n",
    "    # Generate tsne coordinate file\n",
    "    tsne_x = np.array([lisXtsne])\n",
    "    tsne_y = np.array([lisYtsne])\n",
    "    tsne_coor = np.concatenate((tsne_x.T, tsne_y.T),axis = 1)\n",
    "    tsne_file = pd.DataFrame(tsne_coor, index=label, columns=[\"tsne_x\",\"tsne_y\"])\n",
    "    tsne_file.to_csv(\"./data/pbmc_gene=\"+str(mingene)+\"_cell=\"+str(mincell)+\n",
    "                     \"/PCA_branch_\"+str(num)+\"D\"+\"/tsne_coordinate.csv\")\n",
    "    \n",
    "    # Generate label file\n",
    "    label_file = pd.DataFrame(label, columns = [\"label\"])\n",
    "    label_file.to_csv(\"./data/pbmc_gene=\"+str(mingene)+\"_cell=\"+str(mincell)+\n",
    "                     \"/PCA_branch_\"+str(num)+\"D\"+\"/label.tsv\",sep=\"\\t\", header = [\"cluster\"], index =False)\n",
    "    \n",
    "    # generate graph with groud truth label\n",
    "    colors = ['black', 'purple', 'blue', 'yellow', 'pink', 'grey', 'green', 'bisque', 'blanchedalmond', 'red',\n",
    "                  'blueviolet', 'brown', 'burlywood', 'cadetblue', 'chartreuse', 'chocolate']\n",
    "    fig = plt.figure(figsize=(20, 10), dpi=80, facecolor='w', edgecolor='k')\n",
    "    for i in range(len(lisXtsne)):\n",
    "        plt.scatter(lisXtsne[i], lisYtsne[i], c=colors[truth_set.index(truth[i])])\n",
    "    plt.title(\"ground truth\")\n",
    "    plt.xlabel('x')\n",
    "    plt.ylabel('y')\n",
    "    fig.savefig(\"./process_images/pbmc_gene=\"+str(mingene)+\"_cell=\"+str(mincell)+\n",
    "                \"/PCA_branch_\"+str(num)+\"D\"+\"/ground_truth.jpg\")\n",
    "        \n",
    "    # caltulate accuracy\n",
    "    GetAccuracy(np.array(truth), label)"
   ]
  },
  {
   "cell_type": "code",
   "execution_count": 5,
   "metadata": {
    "scrolled": false
   },
   "outputs": [
    {
     "name": "stdout",
     "output_type": "stream",
     "text": [
      "Observation names are not unique. To make them unique, call `.obs_names_make_unique`.\n",
      "0.9004529932559702\n"
     ]
    }
   ],
   "source": [
    "mingene = 200\n",
    "mincell = 3\n",
    "PCAdim = 10\n",
    "clusters = 8\n",
    "filepath = \"./data/data_indexed_with_label_transposed.csv\"\n",
    "\n",
    "\n",
    "CreateDir(filepath, PCAdim, clusters, mingene, mincell)\n",
    "\n",
    "data = scanpy(filepath, mingene, mincell)\n",
    "data.getScanpy(\"./data/pbmc_gene=\"+str(mingene)+\"_cell=\"+str(mincell)+\"/filtered.tsv\")\n",
    "\n",
    "\n",
    "head = data.getFilteredGeneList().tolist()\n",
    "index = data.getFilteredCellList().tolist()\n",
    "headed = pd.read_csv(\"./data/pbmc_gene=\"+str(mingene)+\"_cell=\"+str(mincell)+\"/filtered.tsv\",sep=\"\\t\",\n",
    "                     header=None, index_col=None)\n",
    "headed.index = index\n",
    "headed.to_csv(\"./data/pbmc_gene=\"+str(mingene)+\"_cell=\"+str(mincell)+\"/filtered_headed.tsv\",sep=\"\\t\",\n",
    "             header=head)\n",
    "\n",
    "\n",
    "coordinate = GetPCA(\"./data/pbmc_gene=\"+str(mingene)+\"_cell=\"+str(mincell)+\"/filtered_headed.tsv\",\n",
    "                 PCAdim, clusters, mingene, mincell)"
   ]
  },
  {
   "cell_type": "code",
   "execution_count": null,
   "metadata": {
    "collapsed": true
   },
   "outputs": [],
   "source": []
  }
 ],
 "metadata": {
  "kernelspec": {
   "display_name": "Python 3",
   "language": "python",
   "name": "python3"
  },
  "language_info": {
   "codemirror_mode": {
    "name": "ipython",
    "version": 3
   },
   "file_extension": ".py",
   "mimetype": "text/x-python",
   "name": "python",
   "nbconvert_exporter": "python",
   "pygments_lexer": "ipython3",
   "version": "3.6.5"
  }
 },
 "nbformat": 4,
 "nbformat_minor": 2
}
