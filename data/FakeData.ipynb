{
 "cells": [
  {
   "cell_type": "code",
   "execution_count": 1,
   "metadata": {
    "collapsed": true,
    "scrolled": false
   },
   "outputs": [],
   "source": [
    "import numpy as np\n",
    "import pandas as pd\n",
    "centroid = np.random.uniform(-50,50,(8,10000))\n",
    "variance = np.random.normal(0,3,(8,10000))\n",
    "numbers = np.round(np.random.uniform(50,200,(8))).astype(int)\n",
    "points = []\n",
    "for i in range(centroid.shape[0]):\n",
    "    for j in range(numbers[i]):\n",
    "        point = centroid[i]+np.multiply(variance[i],np.random.normal(0,1,(10000)))\n",
    "        points.append(point)\n",
    "points=np.round(np.array(points),decimals=3)\n",
    "points = pd.DataFrame(points)\n",
    "points.to_csv(\"./fakedata.csv\")"
   ]
  },
  {
   "cell_type": "code",
   "execution_count": null,
   "metadata": {
    "collapsed": true
   },
   "outputs": [],
   "source": []
  }
 ],
 "metadata": {
  "kernelspec": {
   "display_name": "Python 3",
   "language": "python",
   "name": "python3"
  },
  "language_info": {
   "codemirror_mode": {
    "name": "ipython",
    "version": 3
   },
   "file_extension": ".py",
   "mimetype": "text/x-python",
   "name": "python",
   "nbconvert_exporter": "python",
   "pygments_lexer": "ipython3",
   "version": "3.6.5"
  }
 },
 "nbformat": 4,
 "nbformat_minor": 2
}
